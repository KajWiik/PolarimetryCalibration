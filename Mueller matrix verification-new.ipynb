{
 "cells": [
  {
   "cell_type": "code",
   "execution_count": 93,
   "metadata": {
    "collapsed": false
   },
   "outputs": [
    {
     "data": {
      "text/plain": [
       "müller_rec (generic function with 3 methods)"
      ]
     },
     "execution_count": 93,
     "metadata": {},
     "output_type": "execute_result"
    }
   ],
   "source": [
    "type Direct end\n",
    "function müller_rec(::Direct; ϵ::Float64 = 0.0, ϕ::Float64 = 0.0, ΔG::Float64 = 0.0, α::Float64 = 45.0*π/180, ψ::Float64 = 0.0)\n",
    "    return [1.0         (-2ϵ*sin(ϕ)*sin(2α) + ΔG/2*cos(2α)) 2ϵ*cos(ϕ) (2ϵ*sin(ϕ)*cos(2α) + ΔG/2*sin(2α))\n",
    "            ΔG/2                     cos(2α)                   0.0                  sin(2α)\n",
    "            2ϵ*cos(ϕ + ψ)          sin(2α)*sin(ψ)             cos(ψ)            -cos(2α)*sin(ψ)\n",
    "            2ϵ*sin(ϕ + ψ)         -sin(2α)*cos(ψ)             sin(ψ)             cos(2α)*cos(ψ)]\n",
    "end\n"
   ]
  },
  {
   "cell_type": "code",
   "execution_count": 94,
   "metadata": {
    "collapsed": false
   },
   "outputs": [
    {
     "data": {
      "text/plain": [
       "müller_rec (generic function with 3 methods)"
      ]
     },
     "execution_count": 94,
     "metadata": {},
     "output_type": "execute_result"
    }
   ],
   "source": [
    "type Permuted end\n",
    "function müller_rec(::Permuted; ϵ::Float64 = 0.0, ϕ::Float64 = 0.0, ΔG::Float64 = 0.0, α::Float64 = 45.0*π/180, ψ::Float64 = 0.0)\n",
    "    return [1.0         (-2ϵ*sin(ϕ)*sin(2α) + ΔG/2*cos(2α)) 2ϵ*cos(ϕ) (2ϵ*sin(ϕ)*cos(2α) + ΔG/2*sin(2α))\n",
    "            -2ϵ*sin(ϕ + ψ)         sin(2α)*cos(ψ)             -sin(ψ)             -cos(2α)*cos(ψ)\n",
    "            2ϵ*cos(ϕ + ψ)          sin(2α)*sin(ψ)             cos(ψ)            -cos(2α)*sin(ψ)\n",
    "            ΔG/2                     cos(2α)                   0.0                  sin(2α)]\n",
    "end"
   ]
  },
  {
   "cell_type": "code",
   "execution_count": 95,
   "metadata": {
    "collapsed": false
   },
   "outputs": [],
   "source": [
    "ΔG = -0.088; ψ = deg2rad(0.0); α = deg2rad(-48.3); ϵ = 0.004; ϕ = deg2rad(96.1);"
   ]
  },
  {
   "cell_type": "code",
   "execution_count": 96,
   "metadata": {
    "collapsed": false
   },
   "outputs": [
    {
     "data": {
      "text/plain": [
       "4x4 Array{Float64,2}:\n",
       "  1.0           0.0129592  -0.000850113   0.0427941\n",
       " -0.044        -0.114937    0.0          -0.993373 \n",
       " -0.000850113  -0.0         1.0           0.0      \n",
       "  0.0079547     0.993373    0.0          -0.114937 "
      ]
     },
     "execution_count": 96,
     "metadata": {},
     "output_type": "execute_result"
    }
   ],
   "source": [
    "müller_rec(Direct(); ϵ = ϵ, ϕ = ϕ, ΔG = ΔG, α = α, ψ = ψ)"
   ]
  },
  {
   "cell_type": "code",
   "execution_count": 97,
   "metadata": {
    "collapsed": false
   },
   "outputs": [
    {
     "data": {
      "text/plain": [
       "4x4 Array{Float64,2}:\n",
       "  1.0           0.0129592  -0.000850113   0.0427941\n",
       " -0.0079547    -0.993373   -0.0           0.114937 \n",
       " -0.000850113  -0.0         1.0           0.0      \n",
       " -0.044        -0.114937    0.0          -0.993373 "
      ]
     },
     "execution_count": 97,
     "metadata": {},
     "output_type": "execute_result"
    }
   ],
   "source": [
    "müller_rec(Permuted(), ϵ = ϵ, ϕ = ϕ, ΔG = ΔG, α = α, ψ = ψ)"
   ]
  },
  {
   "cell_type": "markdown",
   "metadata": {},
   "source": [
    "Comparing with the native circular case in Heiles's slides:\n",
    "\n",
    "![Heiles matrix](circ_mueller_heiles.png)\n",
    "\n",
    "it can be seen that the direct form matches with the example.\n"
   ]
  },
  {
   "cell_type": "markdown",
   "metadata": {},
   "source": [
    "# Reproducing the plot"
   ]
  },
  {
   "cell_type": "code",
   "execution_count": 98,
   "metadata": {
    "collapsed": false
   },
   "outputs": [
    {
     "data": {
      "text/plain": [
       "müller_sky (generic function with 1 method)"
      ]
     },
     "execution_count": 98,
     "metadata": {},
     "output_type": "execute_result"
    }
   ],
   "source": [
    "function müller_sky(PAaz::Float64)\n",
    "    cpa = cos(2*PAaz)\n",
    "    spa = sin(2*PAaz)\n",
    "    return [1.0   0.0   0.0  0.0\n",
    "            0.0   cpa   spa  0.0\n",
    "            0.0  -spa   cpa  0.0\n",
    "            0.0   0.0   0.0  1.0]\n",
    "end"
   ]
  },
  {
   "cell_type": "code",
   "execution_count": 99,
   "metadata": {
    "collapsed": false
   },
   "outputs": [
    {
     "data": {
      "text/plain": [
       "lin_pol_source (generic function with 1 method)"
      ]
     },
     "execution_count": 99,
     "metadata": {},
     "output_type": "execute_result"
    }
   ],
   "source": [
    "function lin_pol_source(;flux::Float64 = 1.0, p::Float64 = 0.1, pa::Float64 = 0.0)\n",
    "    return Float64[flux\n",
    "                   p*flux*cos(2*pa)\n",
    "                   p*flux*sin(2*pa)\n",
    "                   0.0]\n",
    "end"
   ]
  },
  {
   "cell_type": "code",
   "execution_count": 100,
   "metadata": {
    "collapsed": false
   },
   "outputs": [
    {
     "data": {
      "text/plain": [
       "-90.0:1.0:90.0"
      ]
     },
     "execution_count": 100,
     "metadata": {},
     "output_type": "execute_result"
    }
   ],
   "source": [
    "PArange = -90:1.0:90"
   ]
  },
  {
   "cell_type": "markdown",
   "metadata": {},
   "source": [
    "$Q_{src} = -0.02$\n",
    "\n",
    "$U_{src} = 0.104$\n",
    "\n",
    "$p_{src} = 0.104$\n",
    "\n",
    "$PA_{src} = 45.5^\\circ$\n"
   ]
  },
  {
   "cell_type": "code",
   "execution_count": 101,
   "metadata": {
    "collapsed": false
   },
   "outputs": [
    {
     "data": {
      "text/plain": [
       "0.9998150716581506"
      ]
     },
     "execution_count": 101,
     "metadata": {},
     "output_type": "execute_result"
    }
   ],
   "source": [
    "I_src = sqrt(-0.002^2 + 0.104^2)/0.104"
   ]
  },
  {
   "cell_type": "code",
   "execution_count": 102,
   "metadata": {
    "collapsed": false
   },
   "outputs": [
    {
     "data": {
      "text/plain": [
       "0.001"
      ]
     },
     "execution_count": 102,
     "metadata": {},
     "output_type": "execute_result"
    }
   ],
   "source": [
    "σ = 0.001"
   ]
  },
  {
   "cell_type": "code",
   "execution_count": 103,
   "metadata": {
    "collapsed": false
   },
   "outputs": [],
   "source": [
    "stokes = Float64[(müller_rec(Direct(); ϵ = ϵ, ϕ = ϕ, ΔG = ΔG, α = α, ψ = ψ)*\n",
    "                  müller_sky(deg2rad(PAaz))*\n",
    "                  lin_pol_source(flux = I_src, pa = deg2rad(45.5), p = 0.104))[i] + σ*randn()\n",
    "                   for PAaz = PArange, i in 1:4];"
   ]
  },
  {
   "cell_type": "markdown",
   "metadata": {},
   "source": [
    "In this case ($\\alpha \\sim 45^\\circ$), the output vectors are permuted to (I,V,U,-Q)."
   ]
  },
  {
   "cell_type": "code",
   "execution_count": 104,
   "metadata": {
    "collapsed": false
   },
   "outputs": [],
   "source": [
    "I = stokes[:,1]; Q = -stokes[:,4]; U = stokes[:,3]; V = stokes[:,2];"
   ]
  },
  {
   "cell_type": "code",
   "execution_count": 105,
   "metadata": {
    "collapsed": false
   },
   "outputs": [
    {
     "data": {
      "text/plain": [
       "Plots.PyPlotBackend()"
      ]
     },
     "execution_count": 105,
     "metadata": {},
     "output_type": "execute_result"
    }
   ],
   "source": [
    "using Plots; pyplot()"
   ]
  },
  {
   "cell_type": "code",
   "execution_count": 106,
   "metadata": {
    "collapsed": false
   },
   "outputs": [
    {
     "data": {
      "text/html": [
       "<img src=\"data:image/png;base64,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\" />"
      ]
     },
     "execution_count": 106,
     "metadata": {},
     "output_type": "execute_result"
    }
   ],
   "source": [
    "scatter(PArange, -Q, label = \"Q\", msize = 3, ylabel = \"Jy\", xlabel = \"PA\"); \n",
    "scatter!(PArange, U, label = \"U\", msize = 3); \n",
    "scatter!(PArange, V, label = \"V\", msize = 3)"
   ]
  },
  {
   "cell_type": "markdown",
   "metadata": {},
   "source": [
    "Seems to work, note -Q though."
   ]
  }
 ],
 "metadata": {
  "kernelspec": {
   "display_name": "Julia 0.4.5",
   "language": "julia",
   "name": "julia-0.4"
  },
  "language_info": {
   "file_extension": ".jl",
   "mimetype": "application/julia",
   "name": "julia",
   "version": "0.4.5"
  }
 },
 "nbformat": 4,
 "nbformat_minor": 0
}
